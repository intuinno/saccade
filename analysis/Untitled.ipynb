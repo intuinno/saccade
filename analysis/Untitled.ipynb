{
 "cells": [
  {
   "cell_type": "code",
   "execution_count": 11,
   "id": "444cd0c9-cdac-4323-9ddf-9de13730c4f7",
   "metadata": {},
   "outputs": [],
   "source": [
    "import pickle\n",
    "import torch\n",
    "import numpy as np\n",
    "import matplotlib.pyplot as plt"
   ]
  },
  {
   "cell_type": "code",
   "execution_count": 13,
   "id": "5cd27e90-984b-462f-944c-9bdaaf7f4a8f",
   "metadata": {},
   "outputs": [],
   "source": [
    "with open('sac-010-rev2-5M.pickle', 'rb') as f:\n",
    "    random_exploration = pickle.load(f)\n",
    "\n",
    "with open('sac-010-rev2-p2e-5M.pickle', 'rb') as f:\n",
    "    p2e_da = pickle.load(f)\n",
    "\n",
    "with open('sac-011-rev0-5M.pickle', 'rb') as f:\n",
    "    p2e_pe = pickle.load(f)\n",
    "\n",
    "with open('sac-012-rev0-2M.pickle', 'rb') as f:\n",
    "    ac_pe = pickle.load(f)"
   ]
  },
  {
   "cell_type": "code",
   "execution_count": 14,
   "id": "75b33515-f7a8-4306-bc5b-470a61344455",
   "metadata": {},
   "outputs": [
    {
     "data": {
      "text/plain": [
       "dict_keys([2500, 52500, 102500, 152500, 202500, 252500, 302500, 352500, 402500, 452500, 502500, 552500, 602500, 652500, 702500, 752500, 802500, 852500, 902500, 952500, 1002500, 1052500, 1102500, 1152500, 1202500, 1252500, 1302500, 1352500, 1402500, 1452500, 1502500, 1552500, 1602500, 1652500, 1702500, 1752500, 1802500, 1852500, 1902500, 1952500, 2002500, 2052500, 2102500, 2152500, 2202500, 2252500, 2302500, 2352500, 2402500, 2452500, 2502500, 2552500, 2602500, 2652500])"
      ]
     },
     "execution_count": 14,
     "metadata": {},
     "output_type": "execute_result"
    }
   ],
   "source": [
    "ac_pe.keys()"
   ]
  },
  {
   "cell_type": "code",
   "execution_count": 15,
   "id": "1945d328-d67b-4f70-871f-b55e059b65f2",
   "metadata": {},
   "outputs": [
    {
     "data": {
      "text/plain": [
       "tensor([2672.7441, 1859.2235, 1649.1803, 1569.7960, 1527.3278, 1491.3984,\n",
       "        1476.9833, 1458.2816, 1444.8217, 1431.7848, 1427.1917, 1415.7598,\n",
       "        1414.9076, 1406.4266, 1403.5853, 1403.6254, 1397.3667, 1399.1877,\n",
       "        1396.2557, 1400.1567, 1396.3821, 1397.9672, 1398.1233, 1401.9694,\n",
       "        1399.0927, 1398.2822, 1397.0155, 1398.1143, 1394.9613, 1398.3510,\n",
       "        1401.3973, 1398.5520, 1401.8374, 1399.9277, 1399.6241, 1397.7067,\n",
       "        1398.2369, 1401.4491, 1396.0096, 1399.3221, 1398.5585, 1395.5787,\n",
       "        1397.3759, 1402.8866, 1399.4395, 1400.1801, 1402.8167, 1407.6228,\n",
       "        1406.4535, 1406.1559, 1405.0765, 1404.4031, 1405.9554, 1403.8430,\n",
       "        1404.3373, 1405.0508, 1404.5768, 1405.8646, 1408.4891, 1404.2097,\n",
       "        1405.3632, 1407.8983, 1408.6161, 1408.6598])"
      ]
     },
     "execution_count": 15,
     "metadata": {},
     "output_type": "execute_result"
    }
   ],
   "source": [
    "ac_pe[2652500]"
   ]
  },
  {
   "cell_type": "code",
   "execution_count": null,
   "id": "0b152788-8b81-4d2b-bb7c-ea1dabb007c0",
   "metadata": {},
   "outputs": [],
   "source": []
  }
 ],
 "metadata": {
  "kernelspec": {
   "display_name": "Python 3 (ipykernel)",
   "language": "python",
   "name": "python3"
  },
  "language_info": {
   "codemirror_mode": {
    "name": "ipython",
    "version": 3
   },
   "file_extension": ".py",
   "mimetype": "text/x-python",
   "name": "python",
   "nbconvert_exporter": "python",
   "pygments_lexer": "ipython3",
   "version": "3.10.13"
  }
 },
 "nbformat": 4,
 "nbformat_minor": 5
}
